{
 "cells": [
  {
   "cell_type": "code",
   "execution_count": 2,
   "metadata": {},
   "outputs": [],
   "source": [
    "import os"
   ]
  },
  {
   "cell_type": "code",
   "execution_count": 3,
   "metadata": {},
   "outputs": [
    {
     "data": {
      "text/plain": [
       "['Part_2_Neural_networks_with_TensorFlow_and_Keras_(Solution).ipynb',\n",
       " 'Part_4_Fashion_MNIST_(Exercise).ipynb',\n",
       " '1592145498.h5',\n",
       " '.ipynb_checkpoints',\n",
       " 'assets',\n",
       " 'Part_8_Transfer_Learning_(Solution).ipynb',\n",
       " 'Part_3_Training_Neural_Networks_(Solution).ipynb',\n",
       " '1592145522',\n",
       " 'Part_2_Neural_networks_with_TensorFlow_and_Keras_(Exercise).ipynb',\n",
       " 'Part_3_Training_Neural_Networks_(Exercise).ipynb',\n",
       " 'Part_1_Introduction_to_Neural_Networks_with_TensorFlow_(Exercise).ipynb',\n",
       " 'Part_7_Loading_Image_Data_(Solution).ipynb',\n",
       " 'Untitled.ipynb',\n",
       " 'Part_6_Saving_and_Loading_Models.ipynb',\n",
       " 'Part_1_Introduction_to_Neural_Networks_with_TensorFlow_(Solution).ipynb',\n",
       " 'Part_8_Transfer_Learning_(Exercise).ipynb',\n",
       " 'Part_5_Inference_and_Validation_(Exercise).ipynb',\n",
       " 'best_model.h5',\n",
       " 'Part_7_Loading_Image_Data_(Exercise).ipynb',\n",
       " 'Part_4_Fashion_MNIST_(Solution).ipynb',\n",
       " 'Part_5_Inference_and_Validation_(Solution).ipynb']"
      ]
     },
     "execution_count": 3,
     "metadata": {},
     "output_type": "execute_result"
    }
   ],
   "source": [
    "os.listdir()"
   ]
  },
  {
   "cell_type": "code",
   "execution_count": 4,
   "metadata": {},
   "outputs": [],
   "source": [
    "from zipfile import ZipFile"
   ]
  },
  {
   "cell_type": "code",
   "execution_count": null,
   "metadata": {},
   "outputs": [],
   "source": [
    "files = os.l\n",
    "zipObj = ZipFile('sample.zip', 'w')\n",
    " \n",
    "# Add multiple files to the zip\n",
    "for name in os.listdir():\n",
    "    zipObj.write(name)\n",
    "\n",
    "zipObj.close()"
   ]
  }
 ],
 "metadata": {
  "kernelspec": {
   "display_name": "Python 3",
   "language": "python",
   "name": "python3"
  },
  "language_info": {
   "codemirror_mode": {
    "name": "ipython",
    "version": 3
   },
   "file_extension": ".py",
   "mimetype": "text/x-python",
   "name": "python",
   "nbconvert_exporter": "python",
   "pygments_lexer": "ipython3",
   "version": "3.7.4"
  }
 },
 "nbformat": 4,
 "nbformat_minor": 2
}
